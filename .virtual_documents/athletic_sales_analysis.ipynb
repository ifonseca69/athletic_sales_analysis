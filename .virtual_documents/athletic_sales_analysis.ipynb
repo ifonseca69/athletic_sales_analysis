# Import Libraries and Dependencies
import pandas as pd
from pathlib import Path





# Read the CSV files into DataFrames.
athletic_sales_2020 = Path('Resources/athletic_sales_2020.csv')
athletic_sales_2021 = Path('Resources/athletic_sales_2021.csv')
athletic_sales_2020_df = pd.read_csv(athletic_sales_2020)
athletic_sales_2021_df = pd.read_csv(athletic_sales_2021)


# Display the 2020 sales DataFrame
athletic_sales_2020_df.head()


# Display the 2021 sales DataFrame
athletic_sales_2021_df.head()





# Check the 2020 sales data types.
athletic_sales_2020_df.info()


# Check the 2021 sales data types.
athletic_sales_2021_df.info()





# Combine the 2020 and 2021 sales DataFrames on the rows and reset the index.
combined_sales_df = pd.concat([athletic_sales_2020_df, athletic_sales_2021_df], axis = "rows", join="inner").reset_index(drop=True)
combined_sales_df.head()


# Check if any values are null.
columns_null = combined_sales_df.isna().sum()
columns_null


# Check the data type of each column
combined_sales_df.info()


# Convert the "invoice_date" to a datetime datatype
combined_sales_df['invoice_date'] = pd.to_datetime(combined_sales_df['invoice_date'])
combined_sales_df


# Confirm that the "invoice_date" data type has been changed.
combined_sales_df.info()








# Show the number products sold for region, state, and city.
# Rename the sum to "Total_Products_Sold".
sold_by_region = combined_sales_df.groupby(['region', 'state', 'city']).agg(Total_Products_Sold=('units_sold', 'sum'))
sold_by_region = sold_by_region.sort_values(by ='Total_Products_Sold',ascending=False)
# Show the top 5 results.
sold_by_region.head()





# Show the number products sold for region, state, and city.
pivot_product_sold_df = pd.pivot_table(combined_sales_df, index=['region', 'state', 'city'], values='units_sold', aggfunc='sum')

# Rename the "units_sold" column to "Total_Products_Sold"
pivot_product_sold_df = pivot_product_sold_df.rename(columns={'units_sold': 'Total_Products_Sold'})
pivot_product_sold_df = pivot_product_sold_df.sort_values(by ='Total_Products_Sold',ascending=False)
# Show the top 5 results.
pivot_product_sold_df.head()








# Show the total sales for the products sold for each region, state, and city.
# Rename the "total_sales" column to "Total Sales"
total_sales_df = combined_sales_df.groupby(['region', 'state', 'city']).agg(Total_Sales=('total_sales', 'sum'))
#total_sales_df = total_sales_df.rename(columns={'total_sales': 'Total_Sales'})
total_sales_df = total_sales_df.sort_values(by ='Total_Sales',ascending=False)
# Show the top 5 results.
total_sales_df.head()





# Show the total sales for the products sold for each region, state, and city.
pivot_total_sales_df = pd.pivot_table(combined_sales_df, index=['region', 'state', 'city'],values='total_sales', aggfunc='sum')

# Optional: Rename the "total_sales" column to "Total Sales"
pivot_total_sales_df = pivot_total_sales_df.rename(columns={'total_sales': 'Total_Sales'})
pivot_total_sales_df = pivot_total_sales_df.sort_values(by ='Total_Sales',ascending=False)
# Show the top 5 results.
pivot_total_sales_df.head()








# Show the total sales for the products sold for each retailer, region, state, and city.
# Rename the "total_sales" column to "Total Sales"retailer
total_sales_retailer_df = combined_sales_df.groupby(['retailer', 'region', 'state', 'city']).agg(Total_Sales=('total_sales', 'sum'))
total_sales_retailer_df = total_sales_retailer_df.sort_values(by ='Total_Sales',ascending=False)
# Show the top 5 results.
total_sales_retailer_df.head()





# Show the total sales for the products sold for each retailer, region, state, and city.
reatiler_pivot_sales_df = pd.pivot_table(combined_sales_df, index=['retailer', 'region', 'state', 'city'],values='total_sales', aggfunc='sum')

# Optional: Rename the "total_sales" column to "Total Sales"
reatiler_pivot_sales_df = reatiler_pivot_sales_df.rename(columns={'total_sales': 'Total_Sales'})
reatiler_pivot_sales_df = reatiler_pivot_sales_df.sort_values(by ='Total_Sales',ascending=False)
# Show the top 5 results.
reatiler_pivot_sales_df.head()





# Filter the sales data to get the women's athletic footwear sales data.

filtered_womens_sales_df = combined_sales_df.loc[combined_sales_df['product'] == "Women's Athletic Footwear"]
filtered_womens_sales_df





# Show the total number of women's athletic footwear sold for each retailer, region, state, and city.
# Rename the "units_sold" column to "Womens_Footwear_Units_Sold"
total_womens_sales = filtered_womens_sales_df.groupby(['retailer' , 'region', 'state', 'city']).agg(Womens_Footwear_Units_Sold=('units_sold','sum'))
total_womens_sales = total_womens_sales.sort_values(by ='Womens_Footwear_Units_Sold',ascending=False)
total_womens_sales.head()





# Show the total number of women's athletic footwear sold for each retailer, region, state, and city.


# Rename the "units_sold" column to "Womens_Footwear_Units_Sold"


# Show the top 5 results.






# Create a pivot table with the 'invoice_date' column is the index, and the "total_sales" as the values.


# Optional: Rename the "total_sales" column to "Total Sales"


# Show the table.



# Resample the pivot table into daily bins, and get the total sales for each day.


# Sort the resampled pivot table in descending order on "Total Sales".






# Resample the pivot table into weekly bins, and get the total sales for each week.


# Sort the resampled pivot table in descending order on "Total Sales".




